{
 "cells": [
  {
   "cell_type": "markdown",
   "metadata": {
    "colab_type": "text",
    "id": "uTCJZZc9Rlnt"
   },
   "source": [
    "## Node 구현"
   ]
  },
  {
   "cell_type": "code",
   "execution_count": 112,
   "metadata": {
    "colab": {},
    "colab_type": "code",
    "id": "GAXYjK4URlnu"
   },
   "outputs": [],
   "source": [
    "class Node:\n",
    "    \"\"\"\n",
    "    Trie를 구성하는 Node 클래스입니다.\n",
    "    \"\"\"\n",
    "    def __init__(self, key):\n",
    "        self.key = key\n",
    "        self.data = None\n",
    "        self.children = dict()"
   ]
  },
  {
   "cell_type": "markdown",
   "metadata": {
    "colab_type": "text",
    "id": "RoWfkSS0Rlnw"
   },
   "source": [
    "## Trie 구현\n",
    "1. insert(string)\n",
    "\n",
    "트라이에 문자열 삽입\n",
    "\n",
    "2. search(string)\n",
    "\n",
    "주어진 단어 string이 트라이에 존재하는지 여부 반환\n",
    "\n",
    "3. starts_with(prefix)\n",
    "\n",
    "주어진 prefix 로 시작하는 단어들을 BFS로 트라이에서 찾아 리스트 형태로 반환"
   ]
  },
  {
   "cell_type": "code",
   "execution_count": 113,
   "metadata": {
    "colab": {},
    "colab_type": "code",
    "id": "bOlKPuGpRlnx"
   },
   "outputs": [],
   "source": [
    "class Trie:\n",
    "    def __init__(self):\n",
    "        self.head = Node(None)\n",
    "    \n",
    "    def insert(self, string):\n",
    "        \"\"\"\n",
    "        Trie에 문자열을 삽입합니다.\n",
    "        \"\"\"\n",
    "        curr_node = self.head\n",
    "        \n",
    "        for char in string:\n",
    "            if char not in curr_node.children:\n",
    "                curr_node.children[char] = Node(char)\n",
    "                \n",
    "            curr_node = curr_node.children[char]\n",
    "        \n",
    "        # string 의 마지막 글자에 해당하는 Node의 Data 필드에 string 전체를 저장한다.\n",
    "        curr_node.data = string\n",
    "    \n",
    "    def search(self, string):\n",
    "        \"\"\"\n",
    "        주어진 단어 string이 트라이에 존재하는지 여부를 반환합니다.\n",
    "        \"\"\"\n",
    "        curr_node = self.head\n",
    "        \n",
    "        for char in string:\n",
    "            if char in curr_node.children:\n",
    "                curr_node = curr_node.children[char]\n",
    "            else:\n",
    "                return False\n",
    "            \n",
    "        # string의 마지막 글자에 다달았을 때,\n",
    "        # curr_node 에 data 가 있다면 string이 트라이에 존재하는 것!\n",
    "        if curr_node.data != None:\n",
    "            return True\n",
    "    \n",
    "    def starts_prefix(self, prefix):\n",
    "        \"\"\"\n",
    "        주어진 prefix 로 시작하는 단어들을\n",
    "        트라이에서 찾아 리스트 형태로 반환합니다.\n",
    "        \"\"\"\n",
    "        curr_node = self.head\n",
    "        result=[]\n",
    "        subtrie=None\n",
    "        \n",
    "        for char in prefix:\n",
    "            if char in curr_node.children:\n",
    "                curr_node = curr_node.children[char]\n",
    "                subtrie = curr_node\n",
    "            else:\n",
    "                None\n",
    "                \n",
    "        # dfs 로 prefix subtrie를 순회하며 \n",
    "        # data가 있는 노드들(=완전한 단어)를 찾는다.\n",
    "        stack = list(subtrie.children.values())\n",
    "        \n",
    "        while stack:\n",
    "            curr = stack.pop()\n",
    "            if curr.data != None:\n",
    "                result.append(curr.data)\n",
    "            \n",
    "            stack += list(curr.children.values())\n",
    "            \n",
    "        return result"
   ]
  },
  {
   "cell_type": "code",
   "execution_count": 114,
   "metadata": {
    "colab": {},
    "colab_type": "code",
    "id": "H0b13d0xRlnz"
   },
   "outputs": [],
   "source": [
    "trie = Trie()"
   ]
  },
  {
   "cell_type": "code",
   "execution_count": 115,
   "metadata": {
    "colab": {},
    "colab_type": "code",
    "id": "IuRwzGJFRln1"
   },
   "outputs": [],
   "source": [
    "for string in [\"springboot\", \"springcloud\", \"springmvc\", \"sports\"]:\n",
    "    trie.insert(string)"
   ]
  },
  {
   "cell_type": "code",
   "execution_count": 126,
   "metadata": {
    "colab": {
     "base_uri": "https://localhost:8080/",
     "height": 34
    },
    "colab_type": "code",
    "executionInfo": {
     "elapsed": 1096,
     "status": "ok",
     "timestamp": 1590300188993,
     "user": {
      "displayName": "김준형",
      "photoUrl": "https://lh3.googleusercontent.com/a-/AOh14GhO_36Mcx-ZVWv1HHtG_O4o7eRqyowHZJkpNG2KdiU=s64",
      "userId": "17669351473013187910"
     },
     "user_tz": -540
    },
    "id": "CmN-SJkURln3",
    "outputId": "b5ded070-312d-4b33-c16e-b97104d3c60b"
   },
   "outputs": [
    {
     "name": "stdout",
     "output_type": "stream",
     "text": [
      "Wall time: 0 ns\n"
     ]
    },
    {
     "data": {
      "text/plain": [
       "['springmvc', 'springcloud', 'springboot']"
      ]
     },
     "execution_count": 126,
     "metadata": {},
     "output_type": "execute_result"
    }
   ],
   "source": [
    "%%time\n",
    "\n",
    "trie.starts_prefix(\"spr\")"
   ]
  },
  {
   "cell_type": "code",
   "execution_count": null,
   "metadata": {
    "colab": {},
    "colab_type": "code",
    "id": "1CTkXlX3Rln6"
   },
   "outputs": [],
   "source": []
  }
 ],
 "metadata": {
  "accelerator": "GPU",
  "colab": {
   "collapsed_sections": [],
   "name": "Trie.ipynb",
   "provenance": []
  },
  "kernelspec": {
   "display_name": "Python 3",
   "language": "python",
   "name": "python3"
  },
  "language_info": {
   "codemirror_mode": {
    "name": "ipython",
    "version": 3
   },
   "file_extension": ".py",
   "mimetype": "text/x-python",
   "name": "python",
   "nbconvert_exporter": "python",
   "pygments_lexer": "ipython3",
   "version": "3.9.1"
  }
 },
 "nbformat": 4,
 "nbformat_minor": 4
}
