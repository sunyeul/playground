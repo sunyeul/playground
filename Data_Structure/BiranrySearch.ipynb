{
 "cells": [
  {
   "cell_type": "code",
   "execution_count": 1,
   "metadata": {},
   "outputs": [],
   "source": [
    "from typing import List"
   ]
  },
  {
   "cell_type": "markdown",
   "metadata": {},
   "source": [
    "### Binary search"
   ]
  },
  {
   "cell_type": "markdown",
   "metadata": {},
   "source": [
    "```\n",
    "input  : nums, n\n",
    "output : index s.t. nums[index] = n if n in nums else -1\n",
    "```"
   ]
  },
  {
   "cell_type": "code",
   "execution_count": 11,
   "metadata": {},
   "outputs": [],
   "source": [
    "def BinarySearch(nums:List[int], n:int, lo=None, hi=None) -> int:\n",
    "    if lo is None: lo = 0\n",
    "    if hi is None: hi = len(nums) - 1\n",
    "        \n",
    "    while lo < hi:\n",
    "        mid = (lo + hi) // 2\n",
    "        if nums[mid] == n:\n",
    "            return mid\n",
    "        elif nums[mid] < n:\n",
    "            lo = mid + 1\n",
    "        else: # n < nums[mid]\n",
    "            hi = mid - 1\n",
    "    return -1"
   ]
  },
  {
   "cell_type": "code",
   "execution_count": 5,
   "metadata": {},
   "outputs": [
    {
     "data": {
      "text/plain": [
       "-1"
      ]
     },
     "execution_count": 5,
     "metadata": {},
     "output_type": "execute_result"
    }
   ],
   "source": [
    "BinarySearch([1,2,3,4], 5)"
   ]
  },
  {
   "cell_type": "markdown",
   "metadata": {},
   "source": [
    "### BinaryLeft"
   ]
  },
  {
   "cell_type": "markdown",
   "metadata": {},
   "source": [
    "```\n",
    "input  : nums, n\n",
    "output : index s.t. nums[index-1] < n ≤ nums[index]\n",
    "```"
   ]
  },
  {
   "cell_type": "code",
   "execution_count": 45,
   "metadata": {},
   "outputs": [],
   "source": [
    "def BinaryLeft(nums:List[int], n:int, lo=None, hi=None) -> int:\n",
    "    if lo is None: lo = 0\n",
    "    if hi is None: hi = len(nums) - 1\n",
    "        \n",
    "    while lo < hi:\n",
    "        mid = (lo+hi) // 2\n",
    "        if nums[mid] < n: \n",
    "            lo = mid + 1\n",
    "        else: # n <= nums[mid]\n",
    "            hi = mid\n",
    "    return lo"
   ]
  },
  {
   "cell_type": "code",
   "execution_count": 42,
   "metadata": {},
   "outputs": [
    {
     "data": {
      "text/plain": [
       "2"
      ]
     },
     "execution_count": 42,
     "metadata": {},
     "output_type": "execute_result"
    }
   ],
   "source": [
    "BinaryLeft([1,2,3,4], 2.5)"
   ]
  },
  {
   "cell_type": "code",
   "execution_count": 43,
   "metadata": {},
   "outputs": [
    {
     "data": {
      "text/plain": [
       "2"
      ]
     },
     "execution_count": 43,
     "metadata": {},
     "output_type": "execute_result"
    }
   ],
   "source": [
    "BinaryLeft([1,2,3,4], 3)"
   ]
  },
  {
   "cell_type": "code",
   "execution_count": 44,
   "metadata": {},
   "outputs": [
    {
     "data": {
      "text/plain": [
       "1"
      ]
     },
     "execution_count": 44,
     "metadata": {},
     "output_type": "execute_result"
    }
   ],
   "source": [
    "BinaryLeft([1,2,3,3,4], 3)"
   ]
  },
  {
   "cell_type": "markdown",
   "metadata": {},
   "source": [
    "### BinaryRight"
   ]
  },
  {
   "cell_type": "markdown",
   "metadata": {},
   "source": [
    "```\n",
    "input  : nums, n\n",
    "output : index s.t. nums[index-1] ≤ n < nums[index]\n",
    "```"
   ]
  },
  {
   "cell_type": "code",
   "execution_count": 38,
   "metadata": {},
   "outputs": [],
   "source": [
    "def BinaryRight(nums:List[int], n:int, lo=None, hi=None) -> int:\n",
    "    if lo is None: lo = 0\n",
    "    if hi is None: hi = len(nums) - 1\n",
    "        \n",
    "    while lo < hi:\n",
    "        mid = (lo+hi) // 2\n",
    "        if n == nums[mid] < nums[mid+1]:\n",
    "            return mid\n",
    "        elif nums[mid] <= n: \n",
    "            lo = mid + 1\n",
    "        else: # n < nums[mid]\n",
    "            hi = mid - 1\n",
    "    return hi"
   ]
  },
  {
   "cell_type": "code",
   "execution_count": 46,
   "metadata": {},
   "outputs": [
    {
     "data": {
      "text/plain": [
       "4"
      ]
     },
     "execution_count": 46,
     "metadata": {},
     "output_type": "execute_result"
    }
   ],
   "source": [
    "BinaryRight([1,2,3,3,3,4], 3)"
   ]
  },
  {
   "cell_type": "code",
   "execution_count": null,
   "metadata": {},
   "outputs": [],
   "source": []
  }
 ],
 "metadata": {
  "kernelspec": {
   "display_name": "Python 3",
   "language": "python",
   "name": "python3"
  },
  "language_info": {
   "codemirror_mode": {
    "name": "ipython",
    "version": 3
   },
   "file_extension": ".py",
   "mimetype": "text/x-python",
   "name": "python",
   "nbconvert_exporter": "python",
   "pygments_lexer": "ipython3",
   "version": "3.7.6"
  }
 },
 "nbformat": 4,
 "nbformat_minor": 4
}
